{
 "cells": [
  {
   "cell_type": "markdown",
   "metadata": {},
   "source": [
    "1 - Reading Data"
   ]
  },
  {
   "cell_type": "code",
   "execution_count": 1,
   "metadata": {},
   "outputs": [],
   "source": [
    "#Import necessary libraries\n",
    "import sqlite3\n",
    "import pandas as pd\n",
    "import numpy as np\n",
    "\n",
    "#Establish a connection to the SQLite database\n",
    "con = sqlite3.connect(r\"C:\\Users\\omerf\\OneDrive\\Masaüstü\\Data Analysis Project\\Zomato\\Resources/zomato_rawdata.sqlite\")\n",
    "\n",
    "df = pd.read_sql_query(\"SELECT * FROM USERS\", con)"
   ]
  },
  {
   "cell_type": "code",
   "execution_count": 2,
   "metadata": {},
   "outputs": [],
   "source": [
    "df = pd.read_sql_query(\"SELECT * FROM USERS\", con)"
   ]
  },
  {
   "cell_type": "markdown",
   "metadata": {},
   "source": [
    "2 - Handle some missing values"
   ]
  },
  {
   "cell_type": "code",
   "execution_count": 3,
   "metadata": {},
   "outputs": [
    {
     "name": "stderr",
     "output_type": "stream",
     "text": [
      "C:\\Users\\omerf\\AppData\\Local\\Temp\\ipykernel_8592\\4275000964.py:1: FutureWarning: A value is trying to be set on a copy of a DataFrame or Series through chained assignment using an inplace method.\n",
      "The behavior will change in pandas 3.0. This inplace method will never work because the intermediate object on which we are setting values always behaves as a copy.\n",
      "\n",
      "For example, when doing 'df[col].method(value, inplace=True)', try using 'df.method({col: value}, inplace=True)' or df[col] = df[col].method(value) instead, to perform the operation inplace on the original object.\n",
      "\n",
      "\n",
      "  df[\"rate\"].replace((\"NEW\", \"-\"), np.nan, inplace= True)\n"
     ]
    }
   ],
   "source": [
    "df[\"rate\"].replace((\"NEW\", \"-\"), np.nan, inplace= True)"
   ]
  },
  {
   "cell_type": "code",
   "execution_count": 4,
   "metadata": {},
   "outputs": [],
   "source": [
    "df[\"rate\"] = df[\"rate\"].apply(lambda x: float(x.split(\"/\")[0]) if type(x) == str else x)"
   ]
  },
  {
   "cell_type": "markdown",
   "metadata": {},
   "source": [
    "3 - Extract Geographical Coordinates"
   ]
  },
  {
   "cell_type": "code",
   "execution_count": 5,
   "metadata": {},
   "outputs": [
    {
     "data": {
      "text/plain": [
       "0    Banashankari\n",
       "1    Banashankari\n",
       "2    Banashankari\n",
       "3    Banashankari\n",
       "4    Basavanagudi\n",
       "Name: location, dtype: object"
      ]
     },
     "execution_count": 5,
     "metadata": {},
     "output_type": "execute_result"
    }
   ],
   "source": [
    "df[\"location\"].head()"
   ]
  },
  {
   "cell_type": "code",
   "execution_count": 6,
   "metadata": {},
   "outputs": [
    {
     "data": {
      "text/plain": [
       "array(['Banashankari', 'Basavanagudi', 'Mysore Road', 'Jayanagar',\n",
       "       'Kumaraswamy Layout', 'Rajarajeshwari Nagar', 'Vijay Nagar',\n",
       "       'Uttarahalli', 'JP Nagar', 'South Bangalore', 'City Market',\n",
       "       'Nagarbhavi', 'Bannerghatta Road', 'BTM', 'Kanakapura Road',\n",
       "       'Bommanahalli', None, 'CV Raman Nagar', 'Electronic City', 'HSR',\n",
       "       'Marathahalli', 'Sarjapur Road', 'Wilson Garden', 'Shanti Nagar',\n",
       "       'Koramangala 5th Block', 'Koramangala 8th Block', 'Richmond Road',\n",
       "       'Koramangala 7th Block', 'Jalahalli', 'Koramangala 4th Block',\n",
       "       'Bellandur', 'Whitefield', 'East Bangalore', 'Old Airport Road',\n",
       "       'Indiranagar', 'Koramangala 1st Block', 'Frazer Town', 'RT Nagar',\n",
       "       'MG Road', 'Brigade Road', 'Lavelle Road', 'Church Street',\n",
       "       'Ulsoor', 'Residency Road', 'Shivajinagar', 'Infantry Road',\n",
       "       'St. Marks Road', 'Cunningham Road', 'Race Course Road',\n",
       "       'Commercial Street', 'Vasanth Nagar', 'HBR Layout', 'Domlur',\n",
       "       'Ejipura', 'Jeevan Bhima Nagar', 'Old Madras Road', 'Malleshwaram',\n",
       "       'Seshadripuram', 'Kammanahalli', 'Koramangala 6th Block',\n",
       "       'Majestic', 'Langford Town', 'Central Bangalore', 'Sanjay Nagar',\n",
       "       'Brookefield', 'ITPL Main Road, Whitefield',\n",
       "       'Varthur Main Road, Whitefield', 'KR Puram',\n",
       "       'Koramangala 2nd Block', 'Koramangala 3rd Block', 'Koramangala',\n",
       "       'Hosur Road', 'Rajajinagar', 'Banaswadi', 'North Bangalore',\n",
       "       'Nagawara', 'Hennur', 'Kalyan Nagar', 'New BEL Road', 'Jakkur',\n",
       "       'Rammurthy Nagar', 'Thippasandra', 'Kaggadasapura', 'Hebbal',\n",
       "       'Kengeri', 'Sankey Road', 'Sadashiv Nagar', 'Basaveshwara Nagar',\n",
       "       'Yeshwantpur', 'West Bangalore', 'Magadi Road', 'Yelahanka',\n",
       "       'Sahakara Nagar', 'Peenya'], dtype=object)"
      ]
     },
     "execution_count": 6,
     "metadata": {},
     "output_type": "execute_result"
    }
   ],
   "source": [
    "df[\"location\"].unique()"
   ]
  },
  {
   "cell_type": "code",
   "execution_count": 7,
   "metadata": {},
   "outputs": [],
   "source": [
    "df[\"location\"] = df[\"location\"] + \" , Bangalore, Karnataka, India \""
   ]
  },
  {
   "cell_type": "code",
   "execution_count": 8,
   "metadata": {},
   "outputs": [
    {
     "data": {
      "text/plain": [
       "array(['Banashankari , Bangalore, Karnataka, India ',\n",
       "       'Basavanagudi , Bangalore, Karnataka, India ',\n",
       "       'Mysore Road , Bangalore, Karnataka, India ',\n",
       "       'Jayanagar , Bangalore, Karnataka, India ',\n",
       "       'Kumaraswamy Layout , Bangalore, Karnataka, India ',\n",
       "       'Rajarajeshwari Nagar , Bangalore, Karnataka, India ',\n",
       "       'Vijay Nagar , Bangalore, Karnataka, India ',\n",
       "       'Uttarahalli , Bangalore, Karnataka, India ',\n",
       "       'JP Nagar , Bangalore, Karnataka, India ',\n",
       "       'South Bangalore , Bangalore, Karnataka, India ',\n",
       "       'City Market , Bangalore, Karnataka, India ',\n",
       "       'Nagarbhavi , Bangalore, Karnataka, India ',\n",
       "       'Bannerghatta Road , Bangalore, Karnataka, India ',\n",
       "       'BTM , Bangalore, Karnataka, India ',\n",
       "       'Kanakapura Road , Bangalore, Karnataka, India ',\n",
       "       'Bommanahalli , Bangalore, Karnataka, India ', nan,\n",
       "       'CV Raman Nagar , Bangalore, Karnataka, India ',\n",
       "       'Electronic City , Bangalore, Karnataka, India ',\n",
       "       'HSR , Bangalore, Karnataka, India ',\n",
       "       'Marathahalli , Bangalore, Karnataka, India ',\n",
       "       'Sarjapur Road , Bangalore, Karnataka, India ',\n",
       "       'Wilson Garden , Bangalore, Karnataka, India ',\n",
       "       'Shanti Nagar , Bangalore, Karnataka, India ',\n",
       "       'Koramangala 5th Block , Bangalore, Karnataka, India ',\n",
       "       'Koramangala 8th Block , Bangalore, Karnataka, India ',\n",
       "       'Richmond Road , Bangalore, Karnataka, India ',\n",
       "       'Koramangala 7th Block , Bangalore, Karnataka, India ',\n",
       "       'Jalahalli , Bangalore, Karnataka, India ',\n",
       "       'Koramangala 4th Block , Bangalore, Karnataka, India ',\n",
       "       'Bellandur , Bangalore, Karnataka, India ',\n",
       "       'Whitefield , Bangalore, Karnataka, India ',\n",
       "       'East Bangalore , Bangalore, Karnataka, India ',\n",
       "       'Old Airport Road , Bangalore, Karnataka, India ',\n",
       "       'Indiranagar , Bangalore, Karnataka, India ',\n",
       "       'Koramangala 1st Block , Bangalore, Karnataka, India ',\n",
       "       'Frazer Town , Bangalore, Karnataka, India ',\n",
       "       'RT Nagar , Bangalore, Karnataka, India ',\n",
       "       'MG Road , Bangalore, Karnataka, India ',\n",
       "       'Brigade Road , Bangalore, Karnataka, India ',\n",
       "       'Lavelle Road , Bangalore, Karnataka, India ',\n",
       "       'Church Street , Bangalore, Karnataka, India ',\n",
       "       'Ulsoor , Bangalore, Karnataka, India ',\n",
       "       'Residency Road , Bangalore, Karnataka, India ',\n",
       "       'Shivajinagar , Bangalore, Karnataka, India ',\n",
       "       'Infantry Road , Bangalore, Karnataka, India ',\n",
       "       'St. Marks Road , Bangalore, Karnataka, India ',\n",
       "       'Cunningham Road , Bangalore, Karnataka, India ',\n",
       "       'Race Course Road , Bangalore, Karnataka, India ',\n",
       "       'Commercial Street , Bangalore, Karnataka, India ',\n",
       "       'Vasanth Nagar , Bangalore, Karnataka, India ',\n",
       "       'HBR Layout , Bangalore, Karnataka, India ',\n",
       "       'Domlur , Bangalore, Karnataka, India ',\n",
       "       'Ejipura , Bangalore, Karnataka, India ',\n",
       "       'Jeevan Bhima Nagar , Bangalore, Karnataka, India ',\n",
       "       'Old Madras Road , Bangalore, Karnataka, India ',\n",
       "       'Malleshwaram , Bangalore, Karnataka, India ',\n",
       "       'Seshadripuram , Bangalore, Karnataka, India ',\n",
       "       'Kammanahalli , Bangalore, Karnataka, India ',\n",
       "       'Koramangala 6th Block , Bangalore, Karnataka, India ',\n",
       "       'Majestic , Bangalore, Karnataka, India ',\n",
       "       'Langford Town , Bangalore, Karnataka, India ',\n",
       "       'Central Bangalore , Bangalore, Karnataka, India ',\n",
       "       'Sanjay Nagar , Bangalore, Karnataka, India ',\n",
       "       'Brookefield , Bangalore, Karnataka, India ',\n",
       "       'ITPL Main Road, Whitefield , Bangalore, Karnataka, India ',\n",
       "       'Varthur Main Road, Whitefield , Bangalore, Karnataka, India ',\n",
       "       'KR Puram , Bangalore, Karnataka, India ',\n",
       "       'Koramangala 2nd Block , Bangalore, Karnataka, India ',\n",
       "       'Koramangala 3rd Block , Bangalore, Karnataka, India ',\n",
       "       'Koramangala , Bangalore, Karnataka, India ',\n",
       "       'Hosur Road , Bangalore, Karnataka, India ',\n",
       "       'Rajajinagar , Bangalore, Karnataka, India ',\n",
       "       'Banaswadi , Bangalore, Karnataka, India ',\n",
       "       'North Bangalore , Bangalore, Karnataka, India ',\n",
       "       'Nagawara , Bangalore, Karnataka, India ',\n",
       "       'Hennur , Bangalore, Karnataka, India ',\n",
       "       'Kalyan Nagar , Bangalore, Karnataka, India ',\n",
       "       'New BEL Road , Bangalore, Karnataka, India ',\n",
       "       'Jakkur , Bangalore, Karnataka, India ',\n",
       "       'Rammurthy Nagar , Bangalore, Karnataka, India ',\n",
       "       'Thippasandra , Bangalore, Karnataka, India ',\n",
       "       'Kaggadasapura , Bangalore, Karnataka, India ',\n",
       "       'Hebbal , Bangalore, Karnataka, India ',\n",
       "       'Kengeri , Bangalore, Karnataka, India ',\n",
       "       'Sankey Road , Bangalore, Karnataka, India ',\n",
       "       'Sadashiv Nagar , Bangalore, Karnataka, India ',\n",
       "       'Basaveshwara Nagar , Bangalore, Karnataka, India ',\n",
       "       'Yeshwantpur , Bangalore, Karnataka, India ',\n",
       "       'West Bangalore , Bangalore, Karnataka, India ',\n",
       "       'Magadi Road , Bangalore, Karnataka, India ',\n",
       "       'Yelahanka , Bangalore, Karnataka, India ',\n",
       "       'Sahakara Nagar , Bangalore, Karnataka, India ',\n",
       "       'Peenya , Bangalore, Karnataka, India '], dtype=object)"
      ]
     },
     "execution_count": 8,
     "metadata": {},
     "output_type": "execute_result"
    }
   ],
   "source": [
    "df[\"location\"].unique()"
   ]
  },
  {
   "cell_type": "code",
   "execution_count": 9,
   "metadata": {},
   "outputs": [
    {
     "data": {
      "text/plain": [
       "np.int64(21)"
      ]
     },
     "execution_count": 9,
     "metadata": {},
     "output_type": "execute_result"
    }
   ],
   "source": [
    "#Drop the missing values\n",
    "df_copy = df.copy()\n",
    "\n",
    "df_copy[\"location\"].isnull().sum()"
   ]
  },
  {
   "cell_type": "code",
   "execution_count": 10,
   "metadata": {},
   "outputs": [
    {
     "data": {
      "text/plain": [
       "np.int64(0)"
      ]
     },
     "execution_count": 10,
     "metadata": {},
     "output_type": "execute_result"
    }
   ],
   "source": [
    "df_copy = df_copy.dropna(subset=[\"location\"])\n",
    "\n",
    "df_copy[\"location\"].isnull().sum()"
   ]
  },
  {
   "cell_type": "code",
   "execution_count": 11,
   "metadata": {},
   "outputs": [],
   "source": [
    "#Turn into a dataframe\n",
    "locations = pd.DataFrame(df_copy[\"location\"].unique())"
   ]
  },
  {
   "cell_type": "code",
   "execution_count": 12,
   "metadata": {},
   "outputs": [],
   "source": [
    "#Name the column\n",
    "locations.columns = [\"Name\"]"
   ]
  },
  {
   "cell_type": "code",
   "execution_count": 13,
   "metadata": {},
   "outputs": [
    {
     "data": {
      "text/html": [
       "<div>\n",
       "<style scoped>\n",
       "    .dataframe tbody tr th:only-of-type {\n",
       "        vertical-align: middle;\n",
       "    }\n",
       "\n",
       "    .dataframe tbody tr th {\n",
       "        vertical-align: top;\n",
       "    }\n",
       "\n",
       "    .dataframe thead th {\n",
       "        text-align: right;\n",
       "    }\n",
       "</style>\n",
       "<table border=\"1\" class=\"dataframe\">\n",
       "  <thead>\n",
       "    <tr style=\"text-align: right;\">\n",
       "      <th></th>\n",
       "      <th>Name</th>\n",
       "    </tr>\n",
       "  </thead>\n",
       "  <tbody>\n",
       "    <tr>\n",
       "      <th>0</th>\n",
       "      <td>Banashankari , Bangalore, Karnataka, India</td>\n",
       "    </tr>\n",
       "    <tr>\n",
       "      <th>1</th>\n",
       "      <td>Basavanagudi , Bangalore, Karnataka, India</td>\n",
       "    </tr>\n",
       "    <tr>\n",
       "      <th>2</th>\n",
       "      <td>Mysore Road , Bangalore, Karnataka, India</td>\n",
       "    </tr>\n",
       "    <tr>\n",
       "      <th>3</th>\n",
       "      <td>Jayanagar , Bangalore, Karnataka, India</td>\n",
       "    </tr>\n",
       "    <tr>\n",
       "      <th>4</th>\n",
       "      <td>Kumaraswamy Layout , Bangalore, Karnataka, India</td>\n",
       "    </tr>\n",
       "  </tbody>\n",
       "</table>\n",
       "</div>"
      ],
      "text/plain": [
       "                                                Name\n",
       "0        Banashankari , Bangalore, Karnataka, India \n",
       "1        Basavanagudi , Bangalore, Karnataka, India \n",
       "2         Mysore Road , Bangalore, Karnataka, India \n",
       "3           Jayanagar , Bangalore, Karnataka, India \n",
       "4  Kumaraswamy Layout , Bangalore, Karnataka, India "
      ]
     },
     "execution_count": 13,
     "metadata": {},
     "output_type": "execute_result"
    }
   ],
   "source": [
    "locations.head()"
   ]
  },
  {
   "cell_type": "code",
   "execution_count": 14,
   "metadata": {},
   "outputs": [],
   "source": [
    "#Import necessary libraries\n",
    "from geopy.geocoders import Nominatim\n",
    "\n",
    "geolocator = Nominatim(user_agent=\"app\", timeout=None)"
   ]
  },
  {
   "cell_type": "code",
   "execution_count": 15,
   "metadata": {},
   "outputs": [],
   "source": [
    "#Sometimes it gets HTTP500 error so it catches errors and retries if the attempts still fails, nan is added\n",
    "\n",
    "from geopy.exc import GeocoderServiceError\n",
    "import time\n",
    "\n",
    "lat = []\n",
    "lon = []\n",
    "\n",
    "for location_name in locations[\"Name\"]:\n",
    "    retries = 3\n",
    "    while retries > 0:\n",
    "        try:\n",
    "            location = geolocator.geocode(location_name)\n",
    "            if location is None:\n",
    "                lat.append(np.nan)\n",
    "                lon.append(np.nan)\n",
    "            else:\n",
    "                lat.append(location.latitude)\n",
    "                lon.append(location.longitude)\n",
    "            break\n",
    "        except GeocoderServiceError as e:\n",
    "            print(f\"Geocoding error for {location_name}: {e}\")\n",
    "            retries -= 1\n",
    "            time.sleep(1)\n",
    "\n",
    "    if retries == 0:\n",
    "        lat.append(np.nan)\n",
    "        lon.append(np.nan)"
   ]
  },
  {
   "cell_type": "code",
   "execution_count": 16,
   "metadata": {},
   "outputs": [],
   "source": [
    "locations[\"latitude\"] = lat\n",
    "locations[\"longitude\"] = lon"
   ]
  },
  {
   "cell_type": "code",
   "execution_count": 17,
   "metadata": {},
   "outputs": [
    {
     "data": {
      "text/html": [
       "<div>\n",
       "<style scoped>\n",
       "    .dataframe tbody tr th:only-of-type {\n",
       "        vertical-align: middle;\n",
       "    }\n",
       "\n",
       "    .dataframe tbody tr th {\n",
       "        vertical-align: top;\n",
       "    }\n",
       "\n",
       "    .dataframe thead th {\n",
       "        text-align: right;\n",
       "    }\n",
       "</style>\n",
       "<table border=\"1\" class=\"dataframe\">\n",
       "  <thead>\n",
       "    <tr style=\"text-align: right;\">\n",
       "      <th></th>\n",
       "      <th>Name</th>\n",
       "      <th>latitude</th>\n",
       "      <th>longitude</th>\n",
       "    </tr>\n",
       "  </thead>\n",
       "  <tbody>\n",
       "    <tr>\n",
       "      <th>0</th>\n",
       "      <td>Banashankari , Bangalore, Karnataka, India</td>\n",
       "      <td>12.939333</td>\n",
       "      <td>77.553982</td>\n",
       "    </tr>\n",
       "    <tr>\n",
       "      <th>1</th>\n",
       "      <td>Basavanagudi , Bangalore, Karnataka, India</td>\n",
       "      <td>12.941726</td>\n",
       "      <td>77.575502</td>\n",
       "    </tr>\n",
       "    <tr>\n",
       "      <th>2</th>\n",
       "      <td>Mysore Road , Bangalore, Karnataka, India</td>\n",
       "      <td>12.952813</td>\n",
       "      <td>77.541528</td>\n",
       "    </tr>\n",
       "    <tr>\n",
       "      <th>3</th>\n",
       "      <td>Jayanagar , Bangalore, Karnataka, India</td>\n",
       "      <td>12.939904</td>\n",
       "      <td>77.582638</td>\n",
       "    </tr>\n",
       "    <tr>\n",
       "      <th>4</th>\n",
       "      <td>Kumaraswamy Layout , Bangalore, Karnataka, India</td>\n",
       "      <td>12.906768</td>\n",
       "      <td>77.559502</td>\n",
       "    </tr>\n",
       "    <tr>\n",
       "      <th>...</th>\n",
       "      <td>...</td>\n",
       "      <td>...</td>\n",
       "      <td>...</td>\n",
       "    </tr>\n",
       "    <tr>\n",
       "      <th>88</th>\n",
       "      <td>West Bangalore , Bangalore, Karnataka, India</td>\n",
       "      <td>13.009476</td>\n",
       "      <td>77.553089</td>\n",
       "    </tr>\n",
       "    <tr>\n",
       "      <th>89</th>\n",
       "      <td>Magadi Road , Bangalore, Karnataka, India</td>\n",
       "      <td>12.975608</td>\n",
       "      <td>77.555356</td>\n",
       "    </tr>\n",
       "    <tr>\n",
       "      <th>90</th>\n",
       "      <td>Yelahanka , Bangalore, Karnataka, India</td>\n",
       "      <td>13.100698</td>\n",
       "      <td>77.596345</td>\n",
       "    </tr>\n",
       "    <tr>\n",
       "      <th>91</th>\n",
       "      <td>Sahakara Nagar , Bangalore, Karnataka, India</td>\n",
       "      <td>13.062147</td>\n",
       "      <td>77.580061</td>\n",
       "    </tr>\n",
       "    <tr>\n",
       "      <th>92</th>\n",
       "      <td>Peenya , Bangalore, Karnataka, India</td>\n",
       "      <td>13.032942</td>\n",
       "      <td>77.527325</td>\n",
       "    </tr>\n",
       "  </tbody>\n",
       "</table>\n",
       "<p>93 rows × 3 columns</p>\n",
       "</div>"
      ],
      "text/plain": [
       "                                                 Name   latitude  longitude\n",
       "0         Banashankari , Bangalore, Karnataka, India   12.939333  77.553982\n",
       "1         Basavanagudi , Bangalore, Karnataka, India   12.941726  77.575502\n",
       "2          Mysore Road , Bangalore, Karnataka, India   12.952813  77.541528\n",
       "3            Jayanagar , Bangalore, Karnataka, India   12.939904  77.582638\n",
       "4   Kumaraswamy Layout , Bangalore, Karnataka, India   12.906768  77.559502\n",
       "..                                                ...        ...        ...\n",
       "88      West Bangalore , Bangalore, Karnataka, India   13.009476  77.553089\n",
       "89         Magadi Road , Bangalore, Karnataka, India   12.975608  77.555356\n",
       "90           Yelahanka , Bangalore, Karnataka, India   13.100698  77.596345\n",
       "91      Sahakara Nagar , Bangalore, Karnataka, India   13.062147  77.580061\n",
       "92              Peenya , Bangalore, Karnataka, India   13.032942  77.527325\n",
       "\n",
       "[93 rows x 3 columns]"
      ]
     },
     "execution_count": 17,
     "metadata": {},
     "output_type": "execute_result"
    }
   ],
   "source": [
    "locations"
   ]
  },
  {
   "cell_type": "markdown",
   "metadata": {},
   "source": [
    "4 - Build Geographical Heatmaps"
   ]
  },
  {
   "cell_type": "code",
   "execution_count": 18,
   "metadata": {},
   "outputs": [
    {
     "data": {
      "text/plain": [
       "Name         0\n",
       "latitude     2\n",
       "longitude    2\n",
       "dtype: int64"
      ]
     },
     "execution_count": 18,
     "metadata": {},
     "output_type": "execute_result"
    }
   ],
   "source": [
    "locations.isnull().sum()"
   ]
  },
  {
   "cell_type": "code",
   "execution_count": 19,
   "metadata": {},
   "outputs": [
    {
     "data": {
      "text/html": [
       "<div>\n",
       "<style scoped>\n",
       "    .dataframe tbody tr th:only-of-type {\n",
       "        vertical-align: middle;\n",
       "    }\n",
       "\n",
       "    .dataframe tbody tr th {\n",
       "        vertical-align: top;\n",
       "    }\n",
       "\n",
       "    .dataframe thead th {\n",
       "        text-align: right;\n",
       "    }\n",
       "</style>\n",
       "<table border=\"1\" class=\"dataframe\">\n",
       "  <thead>\n",
       "    <tr style=\"text-align: right;\">\n",
       "      <th></th>\n",
       "      <th>Name</th>\n",
       "      <th>latitude</th>\n",
       "      <th>longitude</th>\n",
       "    </tr>\n",
       "  </thead>\n",
       "  <tbody>\n",
       "    <tr>\n",
       "      <th>79</th>\n",
       "      <td>Rammurthy Nagar , Bangalore, Karnataka, India</td>\n",
       "      <td>NaN</td>\n",
       "      <td>NaN</td>\n",
       "    </tr>\n",
       "    <tr>\n",
       "      <th>85</th>\n",
       "      <td>Sadashiv Nagar , Bangalore, Karnataka, India</td>\n",
       "      <td>NaN</td>\n",
       "      <td>NaN</td>\n",
       "    </tr>\n",
       "  </tbody>\n",
       "</table>\n",
       "</div>"
      ],
      "text/plain": [
       "                                              Name  latitude  longitude\n",
       "79  Rammurthy Nagar , Bangalore, Karnataka, India        NaN        NaN\n",
       "85   Sadashiv Nagar , Bangalore, Karnataka, India        NaN        NaN"
      ]
     },
     "execution_count": 19,
     "metadata": {},
     "output_type": "execute_result"
    }
   ],
   "source": [
    "#Search it from Google\n",
    "locations[locations[\"latitude\"].isna()]"
   ]
  },
  {
   "cell_type": "code",
   "execution_count": 20,
   "metadata": {},
   "outputs": [],
   "source": [
    "#To ignore warnings\n",
    "import warnings\n",
    "from warnings import filterwarnings\n",
    "filterwarnings(\"ignore\")"
   ]
  },
  {
   "cell_type": "code",
   "execution_count": 21,
   "metadata": {},
   "outputs": [],
   "source": [
    "locations[\"latitude\"][79] = 13.0163\n",
    "locations[\"longitude\"][79] = 77.6785"
   ]
  },
  {
   "cell_type": "code",
   "execution_count": 22,
   "metadata": {},
   "outputs": [],
   "source": [
    "locations[\"latitude\"][85] = 13.0068\n",
    "locations[\"longitude\"][85] = 77.5813"
   ]
  },
  {
   "cell_type": "code",
   "execution_count": 23,
   "metadata": {},
   "outputs": [
    {
     "data": {
      "text/plain": [
       "np.int64(45)"
      ]
     },
     "execution_count": 23,
     "metadata": {},
     "output_type": "execute_result"
    }
   ],
   "source": [
    "#Look for North Indian Restaurants\n",
    "df[\"cuisines\"].isnull().sum()"
   ]
  },
  {
   "cell_type": "code",
   "execution_count": 24,
   "metadata": {},
   "outputs": [],
   "source": [
    "df = df.dropna(subset=[\"cuisines\"])"
   ]
  },
  {
   "cell_type": "code",
   "execution_count": 25,
   "metadata": {},
   "outputs": [],
   "source": [
    "north_india = df[df[\"cuisines\"].str.contains(\"North Indian\")]"
   ]
  },
  {
   "cell_type": "code",
   "execution_count": 26,
   "metadata": {},
   "outputs": [
    {
     "data": {
      "text/plain": [
       "(21085, 18)"
      ]
     },
     "execution_count": 26,
     "metadata": {},
     "output_type": "execute_result"
    }
   ],
   "source": [
    "north_india.shape"
   ]
  },
  {
   "cell_type": "code",
   "execution_count": 27,
   "metadata": {},
   "outputs": [
    {
     "data": {
      "text/html": [
       "<div>\n",
       "<style scoped>\n",
       "    .dataframe tbody tr th:only-of-type {\n",
       "        vertical-align: middle;\n",
       "    }\n",
       "\n",
       "    .dataframe tbody tr th {\n",
       "        vertical-align: top;\n",
       "    }\n",
       "\n",
       "    .dataframe thead th {\n",
       "        text-align: right;\n",
       "    }\n",
       "</style>\n",
       "<table border=\"1\" class=\"dataframe\">\n",
       "  <thead>\n",
       "    <tr style=\"text-align: right;\">\n",
       "      <th></th>\n",
       "      <th>Name</th>\n",
       "      <th>count</th>\n",
       "    </tr>\n",
       "  </thead>\n",
       "  <tbody>\n",
       "    <tr>\n",
       "      <th>0</th>\n",
       "      <td>BTM , Bangalore, Karnataka, India</td>\n",
       "      <td>2469</td>\n",
       "    </tr>\n",
       "    <tr>\n",
       "      <th>1</th>\n",
       "      <td>HSR , Bangalore, Karnataka, India</td>\n",
       "      <td>1123</td>\n",
       "    </tr>\n",
       "    <tr>\n",
       "      <th>2</th>\n",
       "      <td>Whitefield , Bangalore, Karnataka, India</td>\n",
       "      <td>1059</td>\n",
       "    </tr>\n",
       "    <tr>\n",
       "      <th>3</th>\n",
       "      <td>Marathahalli , Bangalore, Karnataka, India</td>\n",
       "      <td>1038</td>\n",
       "    </tr>\n",
       "    <tr>\n",
       "      <th>4</th>\n",
       "      <td>JP Nagar , Bangalore, Karnataka, India</td>\n",
       "      <td>958</td>\n",
       "    </tr>\n",
       "  </tbody>\n",
       "</table>\n",
       "</div>"
      ],
      "text/plain": [
       "                                          Name  count\n",
       "0           BTM , Bangalore, Karnataka, India    2469\n",
       "1           HSR , Bangalore, Karnataka, India    1123\n",
       "2    Whitefield , Bangalore, Karnataka, India    1059\n",
       "3  Marathahalli , Bangalore, Karnataka, India    1038\n",
       "4      JP Nagar , Bangalore, Karnataka, India     958"
      ]
     },
     "execution_count": 27,
     "metadata": {},
     "output_type": "execute_result"
    }
   ],
   "source": [
    "north_india_new = north_india[\"location\"].value_counts().reset_index()\n",
    "north_india_new.rename(columns= {\"location\" : \"Name\"}, inplace=True)\n",
    "north_india_new.head()"
   ]
  },
  {
   "cell_type": "code",
   "execution_count": 29,
   "metadata": {},
   "outputs": [],
   "source": [
    "heatmap_df = north_india_new.merge(locations, on = \"Name\", how=\"left\")"
   ]
  },
  {
   "cell_type": "code",
   "execution_count": 30,
   "metadata": {},
   "outputs": [
    {
     "data": {
      "text/html": [
       "<div>\n",
       "<style scoped>\n",
       "    .dataframe tbody tr th:only-of-type {\n",
       "        vertical-align: middle;\n",
       "    }\n",
       "\n",
       "    .dataframe tbody tr th {\n",
       "        vertical-align: top;\n",
       "    }\n",
       "\n",
       "    .dataframe thead th {\n",
       "        text-align: right;\n",
       "    }\n",
       "</style>\n",
       "<table border=\"1\" class=\"dataframe\">\n",
       "  <thead>\n",
       "    <tr style=\"text-align: right;\">\n",
       "      <th></th>\n",
       "      <th>Name</th>\n",
       "      <th>count</th>\n",
       "      <th>latitude</th>\n",
       "      <th>longitude</th>\n",
       "    </tr>\n",
       "  </thead>\n",
       "  <tbody>\n",
       "    <tr>\n",
       "      <th>0</th>\n",
       "      <td>BTM , Bangalore, Karnataka, India</td>\n",
       "      <td>2469</td>\n",
       "      <td>12.916360</td>\n",
       "      <td>77.604733</td>\n",
       "    </tr>\n",
       "    <tr>\n",
       "      <th>1</th>\n",
       "      <td>HSR , Bangalore, Karnataka, India</td>\n",
       "      <td>1123</td>\n",
       "      <td>12.900563</td>\n",
       "      <td>77.649475</td>\n",
       "    </tr>\n",
       "    <tr>\n",
       "      <th>2</th>\n",
       "      <td>Whitefield , Bangalore, Karnataka, India</td>\n",
       "      <td>1059</td>\n",
       "      <td>12.969637</td>\n",
       "      <td>77.749745</td>\n",
       "    </tr>\n",
       "    <tr>\n",
       "      <th>3</th>\n",
       "      <td>Marathahalli , Bangalore, Karnataka, India</td>\n",
       "      <td>1038</td>\n",
       "      <td>12.955257</td>\n",
       "      <td>77.698416</td>\n",
       "    </tr>\n",
       "    <tr>\n",
       "      <th>4</th>\n",
       "      <td>JP Nagar , Bangalore, Karnataka, India</td>\n",
       "      <td>958</td>\n",
       "      <td>12.909694</td>\n",
       "      <td>77.586607</td>\n",
       "    </tr>\n",
       "  </tbody>\n",
       "</table>\n",
       "</div>"
      ],
      "text/plain": [
       "                                          Name  count   latitude  longitude\n",
       "0           BTM , Bangalore, Karnataka, India    2469  12.916360  77.604733\n",
       "1           HSR , Bangalore, Karnataka, India    1123  12.900563  77.649475\n",
       "2    Whitefield , Bangalore, Karnataka, India    1059  12.969637  77.749745\n",
       "3  Marathahalli , Bangalore, Karnataka, India    1038  12.955257  77.698416\n",
       "4      JP Nagar , Bangalore, Karnataka, India     958  12.909694  77.586607"
      ]
     },
     "execution_count": 30,
     "metadata": {},
     "output_type": "execute_result"
    }
   ],
   "source": [
    "heatmap_df.head()"
   ]
  },
  {
   "cell_type": "code",
   "execution_count": 35,
   "metadata": {},
   "outputs": [
    {
     "data": {
      "text/plain": [
       "<folium.plugins.heat_map.HeatMap at 0x28c0487bf10>"
      ]
     },
     "execution_count": 35,
     "metadata": {},
     "output_type": "execute_result"
    }
   ],
   "source": [
    "#Import necessary libraries\n",
    "#This plot might cannot be seen in Github\n",
    "import folium\n",
    "\n",
    "basemap = folium.Map(location=[13.0068, 77.5813], zoom_start=10)  # India's central location\n",
    "\n",
    "from folium.plugins import HeatMap \n",
    "\n",
    "HeatMap(heatmap_df[[\"latitude\", \"longitude\", \"count\"]]).add_to(basemap)"
   ]
  },
  {
   "cell_type": "code",
   "execution_count": 36,
   "metadata": {},
   "outputs": [
    {
     "data": {
      "text/html": [
       "<div style=\"width:100%;\"><div style=\"position:relative;width:100%;height:0;padding-bottom:60%;\"><span style=\"color:#565656\">Make this Notebook Trusted to load map: File -> Trust Notebook</span><iframe srcdoc=\"&lt;!DOCTYPE html&gt;\n",
       "&lt;html&gt;\n",
       "&lt;head&gt;\n",
       "    \n",
       "    &lt;meta http-equiv=&quot;content-type&quot; content=&quot;text/html; charset=UTF-8&quot; /&gt;\n",
       "    \n",
       "        &lt;script&gt;\n",
       "            L_NO_TOUCH = false;\n",
       "            L_DISABLE_3D = false;\n",
       "        &lt;/script&gt;\n",
       "    \n",
       "    &lt;style&gt;html, body {width: 100%;height: 100%;margin: 0;padding: 0;}&lt;/style&gt;\n",
       "    &lt;style&gt;#map {position:absolute;top:0;bottom:0;right:0;left:0;}&lt;/style&gt;\n",
       "    &lt;script src=&quot;https://cdn.jsdelivr.net/npm/leaflet@1.9.3/dist/leaflet.js&quot;&gt;&lt;/script&gt;\n",
       "    &lt;script src=&quot;https://code.jquery.com/jquery-3.7.1.min.js&quot;&gt;&lt;/script&gt;\n",
       "    &lt;script src=&quot;https://cdn.jsdelivr.net/npm/bootstrap@5.2.2/dist/js/bootstrap.bundle.min.js&quot;&gt;&lt;/script&gt;\n",
       "    &lt;script src=&quot;https://cdnjs.cloudflare.com/ajax/libs/Leaflet.awesome-markers/2.0.2/leaflet.awesome-markers.js&quot;&gt;&lt;/script&gt;\n",
       "    &lt;link rel=&quot;stylesheet&quot; href=&quot;https://cdn.jsdelivr.net/npm/leaflet@1.9.3/dist/leaflet.css&quot;/&gt;\n",
       "    &lt;link rel=&quot;stylesheet&quot; href=&quot;https://cdn.jsdelivr.net/npm/bootstrap@5.2.2/dist/css/bootstrap.min.css&quot;/&gt;\n",
       "    &lt;link rel=&quot;stylesheet&quot; href=&quot;https://netdna.bootstrapcdn.com/bootstrap/3.0.0/css/bootstrap-glyphicons.css&quot;/&gt;\n",
       "    &lt;link rel=&quot;stylesheet&quot; href=&quot;https://cdn.jsdelivr.net/npm/@fortawesome/fontawesome-free@6.2.0/css/all.min.css&quot;/&gt;\n",
       "    &lt;link rel=&quot;stylesheet&quot; href=&quot;https://cdnjs.cloudflare.com/ajax/libs/Leaflet.awesome-markers/2.0.2/leaflet.awesome-markers.css&quot;/&gt;\n",
       "    &lt;link rel=&quot;stylesheet&quot; href=&quot;https://cdn.jsdelivr.net/gh/python-visualization/folium/folium/templates/leaflet.awesome.rotate.min.css&quot;/&gt;\n",
       "    \n",
       "            &lt;meta name=&quot;viewport&quot; content=&quot;width=device-width,\n",
       "                initial-scale=1.0, maximum-scale=1.0, user-scalable=no&quot; /&gt;\n",
       "            &lt;style&gt;\n",
       "                #map_5bd381aed041966131cfe0bbe55e4b18 {\n",
       "                    position: relative;\n",
       "                    width: 100.0%;\n",
       "                    height: 100.0%;\n",
       "                    left: 0.0%;\n",
       "                    top: 0.0%;\n",
       "                }\n",
       "                .leaflet-container { font-size: 1rem; }\n",
       "            &lt;/style&gt;\n",
       "        \n",
       "    &lt;script src=&quot;https://cdn.jsdelivr.net/gh/python-visualization/folium@main/folium/templates/leaflet_heat.min.js&quot;&gt;&lt;/script&gt;\n",
       "&lt;/head&gt;\n",
       "&lt;body&gt;\n",
       "    \n",
       "    \n",
       "            &lt;div class=&quot;folium-map&quot; id=&quot;map_5bd381aed041966131cfe0bbe55e4b18&quot; &gt;&lt;/div&gt;\n",
       "        \n",
       "&lt;/body&gt;\n",
       "&lt;script&gt;\n",
       "    \n",
       "    \n",
       "            var map_5bd381aed041966131cfe0bbe55e4b18 = L.map(\n",
       "                &quot;map_5bd381aed041966131cfe0bbe55e4b18&quot;,\n",
       "                {\n",
       "                    center: [13.0068, 77.5813],\n",
       "                    crs: L.CRS.EPSG3857,\n",
       "                    zoom: 10,\n",
       "                    zoomControl: true,\n",
       "                    preferCanvas: false,\n",
       "                }\n",
       "            );\n",
       "\n",
       "            \n",
       "\n",
       "        \n",
       "    \n",
       "            var tile_layer_7a0c54934a409404dfe9ea39c5f0a7c1 = L.tileLayer(\n",
       "                &quot;https://tile.openstreetmap.org/{z}/{x}/{y}.png&quot;,\n",
       "                {&quot;attribution&quot;: &quot;\\u0026copy; \\u003ca href=\\&quot;https://www.openstreetmap.org/copyright\\&quot;\\u003eOpenStreetMap\\u003c/a\\u003e contributors&quot;, &quot;detectRetina&quot;: false, &quot;maxNativeZoom&quot;: 19, &quot;maxZoom&quot;: 19, &quot;minZoom&quot;: 0, &quot;noWrap&quot;: false, &quot;opacity&quot;: 1, &quot;subdomains&quot;: &quot;abc&quot;, &quot;tms&quot;: false}\n",
       "            );\n",
       "        \n",
       "    \n",
       "            tile_layer_7a0c54934a409404dfe9ea39c5f0a7c1.addTo(map_5bd381aed041966131cfe0bbe55e4b18);\n",
       "        \n",
       "    \n",
       "            var heat_map_7791d1d3068131982ed833eb0a98df3e = L.heatLayer(\n",
       "                [[12.9163603, 77.604733, 2469.0], [12.90056335, 77.64947470503677, 1123.0], [12.9696365, 77.7497448, 1059.0], [12.9552572, 77.6984163, 1038.0], [12.9096941, 77.5866067, 958.0], [12.9348429, 77.6189768, 755.0], [12.9521804, 77.6041899, 701.0], [12.9962979, 77.5452778, 678.0], [12.848759900000001, 77.64825295827616, 675.0], [12.9399039, 77.5826382, 664.0], [12.93103185, 77.6782471, 659.0], [12.9277245, 77.6327822, 601.0], [12.9244413, 77.6508966, 529.0], [12.9390255, 77.6238477, 408.0], [12.9364846, 77.6134783, 390.0], [12.9778793, 77.6246697, 376.0], [12.9755264, 77.6067902, 359.0], [12.9327778, 77.6294052, 351.0], [12.9750849, 77.6079337, 323.0], [12.9682513, 77.6124832, 312.0], [12.9393328, 77.5539819, 309.0], [12.96381425, 77.72243691580387, 282.0], [12.986391, 77.6075416, 272.0], [13.0170461, 77.5726933, 267.0], [13.0221416, 77.6403368, 262.0], [12.9882338, 77.554883, 230.0], [13.0058357, 77.6281321, 227.0], [12.9910375, 77.5858824, 224.0], [12.9575547, 77.5979099, 223.0], [13.0027353, 77.5703253, 215.0], [12.9729116, 77.6088972, 214.0], [12.9606619, 77.6422626, 214.0], [12.9467081, 77.6286805, 202.0], [12.9986827, 77.615525, 201.0], [12.9624669, 77.6381958, 199.0], [12.9417261, 77.5755021, 189.0], [13.0093455, 77.6377094, 175.0], [12.9756281, 77.6023664, 173.0], [12.9489339, 77.5968273, 132.0], [12.9089453, 77.6239038, 129.0], [12.9749487, 77.5997248, 128.0], [12.9934283, 77.5902145, 127.0], [12.9744255, 77.6015301, 121.0], [12.9678074, 77.6568367, 117.0], [12.9408685, 77.617338, 103.0], [12.9067683, 77.5595021, 98.0], [13.0422794, 77.6248577, 96.0], [12.9282918, 77.6254034, 84.0], [12.9931876, 77.5753419, 83.0], [12.973936, 77.6509982, 78.0], [12.9822324, 77.6082947, 76.0], [12.9843238, 77.5821089, 76.0], [12.9507841, 77.605541, 73.0], [13.02383, 77.5529215, 72.0], [12.9783547, 77.5728609, 69.0], [13.0258087, 77.6305067, 68.0], [12.99118045, 77.54489175084052, 65.0], [12.9832483, 77.5957465, 61.0], [12.9243692, 77.6242433, 58.0], [12.965717999999999, 77.5762705372058, 58.0], [13.0358698, 77.6323597, 51.0], [13.0227204, 77.595715, 51.0], [12.9874878, 77.736158, 50.0], [12.9621761, 77.77136741208628, 47.0], [12.9846713, 77.6790908, 47.0], [12.9660722, 77.6125940647638, 35.0], [12.9578658, 77.6958748, 34.0], [12.864107149999999, 77.55441638924378, 31.0], [12.985098650000001, 77.66311735, 30.0], [12.957998, 77.6037312, 22.0], [13.0068, 77.5813, 20.0], [13.0394104, 77.5197351, 19.0], [12.9384557, 77.6340522, 19.0], [13.002689, 77.5841455, 17.0], [12.9368751, 77.5753517, 16.0], [13.0163, 77.6785, 14.0], [13.001147, 77.61822712748447, 14.0], [12.9055682, 77.5455438, 13.0], [13.0621474, 77.58006135480495, 13.0], [13.007516, 77.695935, 12.0], [12.975608, 77.5553564, 12.0], [12.9528131, 77.5415283, 11.0], [12.9857257, 77.6451052, 7.0], [13.0181973, 77.5581675, 6.0], [12.9651626, 77.50909758891439, 5.0], [13.0382184, 77.5919, 4.0], [13.0784743, 77.6068938, 3.0], [12.97339325, 77.61124684880099, 2.0], [13.009476450000001, 77.55308891231309, 1.0], [13.0329419, 77.5273253, 1.0]],\n",
       "                {&quot;blur&quot;: 15, &quot;maxZoom&quot;: 18, &quot;minOpacity&quot;: 0.5, &quot;radius&quot;: 25}\n",
       "            );\n",
       "        \n",
       "    \n",
       "            heat_map_7791d1d3068131982ed833eb0a98df3e.addTo(map_5bd381aed041966131cfe0bbe55e4b18);\n",
       "        \n",
       "&lt;/script&gt;\n",
       "&lt;/html&gt;\" style=\"position:absolute;width:100%;height:100%;left:0;top:0;border:none !important;\" allowfullscreen webkitallowfullscreen mozallowfullscreen></iframe></div></div>"
      ],
      "text/plain": [
       "<folium.folium.Map at 0x28c19fd4950>"
      ]
     },
     "execution_count": 36,
     "metadata": {},
     "output_type": "execute_result"
    }
   ],
   "source": [
    "basemap"
   ]
  },
  {
   "cell_type": "markdown",
   "metadata": {},
   "source": [
    "4 - How to Automate your Data Analysis"
   ]
  },
  {
   "cell_type": "code",
   "execution_count": 42,
   "metadata": {},
   "outputs": [],
   "source": [
    "def get_heatmap(cuisine):\n",
    "    cuisine_df = df[df[\"cuisines\"].str.contains(cuisine)]\n",
    "\n",
    "    cuisine_new = cuisine_df[\"location\"].value_counts().reset_index()\n",
    "    cuisine_new.rename(columns= {\"location\" : \"Name\"}, inplace=True)\n",
    "\n",
    "    heatmap_df = cuisine_new.merge(locations, on = \"Name\", how = \"left\")\n",
    "\n",
    "    print(heatmap_df.head())\n",
    "\n",
    "    basemap = folium.Map(location=[13.0068, 77.5813], zoom_start=10)  # India's central location\n",
    "\n",
    "    HeatMap(heatmap_df[[\"latitude\", \"longitude\", \"count\"]]).add_to(basemap)\n",
    "\n",
    "    return basemap"
   ]
  },
  {
   "cell_type": "code",
   "execution_count": 43,
   "metadata": {},
   "outputs": [
    {
     "name": "stdout",
     "output_type": "stream",
     "text": [
      "                                        Name  count   latitude  longitude\n",
      "0         BTM , Bangalore, Karnataka, India     815  12.916360  77.604733\n",
      "1    JP Nagar , Bangalore, Karnataka, India     437  12.909694  77.586607\n",
      "2         HSR , Bangalore, Karnataka, India     436  12.900563  77.649475\n",
      "3   Jayanagar , Bangalore, Karnataka, India     416  12.939904  77.582638\n",
      "4  Whitefield , Bangalore, Karnataka, India     308  12.969637  77.749745\n"
     ]
    },
    {
     "data": {
      "text/html": [
       "<div style=\"width:100%;\"><div style=\"position:relative;width:100%;height:0;padding-bottom:60%;\"><span style=\"color:#565656\">Make this Notebook Trusted to load map: File -> Trust Notebook</span><iframe srcdoc=\"&lt;!DOCTYPE html&gt;\n",
       "&lt;html&gt;\n",
       "&lt;head&gt;\n",
       "    \n",
       "    &lt;meta http-equiv=&quot;content-type&quot; content=&quot;text/html; charset=UTF-8&quot; /&gt;\n",
       "    \n",
       "        &lt;script&gt;\n",
       "            L_NO_TOUCH = false;\n",
       "            L_DISABLE_3D = false;\n",
       "        &lt;/script&gt;\n",
       "    \n",
       "    &lt;style&gt;html, body {width: 100%;height: 100%;margin: 0;padding: 0;}&lt;/style&gt;\n",
       "    &lt;style&gt;#map {position:absolute;top:0;bottom:0;right:0;left:0;}&lt;/style&gt;\n",
       "    &lt;script src=&quot;https://cdn.jsdelivr.net/npm/leaflet@1.9.3/dist/leaflet.js&quot;&gt;&lt;/script&gt;\n",
       "    &lt;script src=&quot;https://code.jquery.com/jquery-3.7.1.min.js&quot;&gt;&lt;/script&gt;\n",
       "    &lt;script src=&quot;https://cdn.jsdelivr.net/npm/bootstrap@5.2.2/dist/js/bootstrap.bundle.min.js&quot;&gt;&lt;/script&gt;\n",
       "    &lt;script src=&quot;https://cdnjs.cloudflare.com/ajax/libs/Leaflet.awesome-markers/2.0.2/leaflet.awesome-markers.js&quot;&gt;&lt;/script&gt;\n",
       "    &lt;link rel=&quot;stylesheet&quot; href=&quot;https://cdn.jsdelivr.net/npm/leaflet@1.9.3/dist/leaflet.css&quot;/&gt;\n",
       "    &lt;link rel=&quot;stylesheet&quot; href=&quot;https://cdn.jsdelivr.net/npm/bootstrap@5.2.2/dist/css/bootstrap.min.css&quot;/&gt;\n",
       "    &lt;link rel=&quot;stylesheet&quot; href=&quot;https://netdna.bootstrapcdn.com/bootstrap/3.0.0/css/bootstrap-glyphicons.css&quot;/&gt;\n",
       "    &lt;link rel=&quot;stylesheet&quot; href=&quot;https://cdn.jsdelivr.net/npm/@fortawesome/fontawesome-free@6.2.0/css/all.min.css&quot;/&gt;\n",
       "    &lt;link rel=&quot;stylesheet&quot; href=&quot;https://cdnjs.cloudflare.com/ajax/libs/Leaflet.awesome-markers/2.0.2/leaflet.awesome-markers.css&quot;/&gt;\n",
       "    &lt;link rel=&quot;stylesheet&quot; href=&quot;https://cdn.jsdelivr.net/gh/python-visualization/folium/folium/templates/leaflet.awesome.rotate.min.css&quot;/&gt;\n",
       "    \n",
       "            &lt;meta name=&quot;viewport&quot; content=&quot;width=device-width,\n",
       "                initial-scale=1.0, maximum-scale=1.0, user-scalable=no&quot; /&gt;\n",
       "            &lt;style&gt;\n",
       "                #map_5930672eb4cd78250f1bdf0f9b3e5151 {\n",
       "                    position: relative;\n",
       "                    width: 100.0%;\n",
       "                    height: 100.0%;\n",
       "                    left: 0.0%;\n",
       "                    top: 0.0%;\n",
       "                }\n",
       "                .leaflet-container { font-size: 1rem; }\n",
       "            &lt;/style&gt;\n",
       "        \n",
       "    &lt;script src=&quot;https://cdn.jsdelivr.net/gh/python-visualization/folium@main/folium/templates/leaflet_heat.min.js&quot;&gt;&lt;/script&gt;\n",
       "&lt;/head&gt;\n",
       "&lt;body&gt;\n",
       "    \n",
       "    \n",
       "            &lt;div class=&quot;folium-map&quot; id=&quot;map_5930672eb4cd78250f1bdf0f9b3e5151&quot; &gt;&lt;/div&gt;\n",
       "        \n",
       "&lt;/body&gt;\n",
       "&lt;script&gt;\n",
       "    \n",
       "    \n",
       "            var map_5930672eb4cd78250f1bdf0f9b3e5151 = L.map(\n",
       "                &quot;map_5930672eb4cd78250f1bdf0f9b3e5151&quot;,\n",
       "                {\n",
       "                    center: [13.0068, 77.5813],\n",
       "                    crs: L.CRS.EPSG3857,\n",
       "                    zoom: 10,\n",
       "                    zoomControl: true,\n",
       "                    preferCanvas: false,\n",
       "                }\n",
       "            );\n",
       "\n",
       "            \n",
       "\n",
       "        \n",
       "    \n",
       "            var tile_layer_75c65ffd4e1a6d5e6ae97a1b201bee3c = L.tileLayer(\n",
       "                &quot;https://tile.openstreetmap.org/{z}/{x}/{y}.png&quot;,\n",
       "                {&quot;attribution&quot;: &quot;\\u0026copy; \\u003ca href=\\&quot;https://www.openstreetmap.org/copyright\\&quot;\\u003eOpenStreetMap\\u003c/a\\u003e contributors&quot;, &quot;detectRetina&quot;: false, &quot;maxNativeZoom&quot;: 19, &quot;maxZoom&quot;: 19, &quot;minZoom&quot;: 0, &quot;noWrap&quot;: false, &quot;opacity&quot;: 1, &quot;subdomains&quot;: &quot;abc&quot;, &quot;tms&quot;: false}\n",
       "            );\n",
       "        \n",
       "    \n",
       "            tile_layer_75c65ffd4e1a6d5e6ae97a1b201bee3c.addTo(map_5930672eb4cd78250f1bdf0f9b3e5151);\n",
       "        \n",
       "    \n",
       "            var heat_map_97ecb6a0636ee1c61d612334ea42ce3a = L.heatLayer(\n",
       "                [[12.9163603, 77.604733, 815.0], [12.9096941, 77.5866067, 437.0], [12.90056335, 77.64947470503677, 436.0], [12.9399039, 77.5826382, 416.0], [12.9696365, 77.7497448, 308.0], [12.848759900000001, 77.64825295827616, 308.0], [12.9521804, 77.6041899, 302.0], [12.9552572, 77.6984163, 293.0], [12.9393328, 77.5539819, 242.0], [12.9962979, 77.5452778, 235.0], [12.9417261, 77.5755021, 218.0], [12.9882338, 77.554883, 217.0], [12.9750849, 77.6079337, 211.0], [12.9277245, 77.6327822, 187.0], [12.93103185, 77.6782471, 183.0], [12.9778793, 77.6246697, 182.0], [12.9244413, 77.6508966, 180.0], [12.9390255, 77.6238477, 164.0], [12.986391, 77.6075416, 160.0], [13.0027353, 77.5703253, 160.0], [12.9348429, 77.6189768, 155.0], [13.0058357, 77.6281321, 155.0], [12.9575547, 77.5979099, 153.0], [12.9682513, 77.6124832, 149.0], [12.96381425, 77.72243691580387, 133.0], [13.0093455, 77.6377094, 117.0], [12.9327778, 77.6294052, 102.0], [12.9364846, 77.6134783, 102.0], [12.9910375, 77.5858824, 99.0], [12.9986827, 77.615525, 92.0], [13.0170461, 77.5726933, 92.0], [12.9783547, 77.5728609, 88.0], [12.9729116, 77.6088972, 85.0], [13.0221416, 77.6403368, 85.0], [12.9755264, 77.6067902, 82.0], [12.9606619, 77.6422626, 69.0], [12.9624669, 77.6381958, 65.0], [12.9408685, 77.617338, 62.0], [12.9934283, 77.5902145, 59.0], [12.965717999999999, 77.5762705372058, 56.0], [12.9843238, 77.5821089, 51.0], [12.9089453, 77.6239038, 48.0], [12.9756281, 77.6023664, 46.0], [12.9678074, 77.6568367, 46.0], [12.9489339, 77.5968273, 44.0], [12.9822324, 77.6082947, 44.0], [12.99118045, 77.54489175084052, 41.0], [12.9467081, 77.6286805, 40.0], [12.9067683, 77.5595021, 38.0], [12.973936, 77.6509982, 37.0], [12.9744255, 77.6015301, 37.0], [12.9660722, 77.6125940647638, 35.0], [13.02383, 77.5529215, 35.0], [12.9832483, 77.5957465, 33.0], [12.9507841, 77.605541, 32.0], [13.0422794, 77.6248577, 31.0], [13.0358698, 77.6323597, 29.0], [12.9621761, 77.77136741208628, 26.0], [13.0258087, 77.6305067, 25.0], [12.9931876, 77.5753419, 22.0], [12.9846713, 77.6790908, 22.0], [13.0227204, 77.595715, 18.0], [12.9243692, 77.6242433, 18.0], [12.975608, 77.5553564, 17.0], [12.9528131, 77.5415283, 17.0], [12.9749487, 77.5997248, 16.0], [12.9282918, 77.6254034, 16.0], [12.985098650000001, 77.66311735, 14.0], [13.0394104, 77.5197351, 13.0], [13.0621474, 77.58006135480495, 13.0], [12.9368751, 77.5753517, 12.0], [12.9874878, 77.736158, 10.0], [12.9578658, 77.6958748, 10.0], [13.0068, 77.5813, 9.0], [12.9651626, 77.50909758891439, 8.0], [13.0163, 77.6785, 7.0], [13.007516, 77.695935, 6.0], [13.002689, 77.5841455, 5.0], [12.9055682, 77.5455438, 4.0], [13.1006982, 77.5963454, 4.0], [13.001147, 77.61822712748447, 3.0], [13.0784743, 77.6068938, 3.0], [12.9857257, 77.6451052, 2.0], [13.0181973, 77.5581675, 1.0], [12.864107149999999, 77.55441638924378, 1.0], [13.0382184, 77.5919, 1.0]],\n",
       "                {&quot;blur&quot;: 15, &quot;maxZoom&quot;: 18, &quot;minOpacity&quot;: 0.5, &quot;radius&quot;: 25}\n",
       "            );\n",
       "        \n",
       "    \n",
       "            heat_map_97ecb6a0636ee1c61d612334ea42ce3a.addTo(map_5930672eb4cd78250f1bdf0f9b3e5151);\n",
       "        \n",
       "&lt;/script&gt;\n",
       "&lt;/html&gt;\" style=\"position:absolute;width:100%;height:100%;left:0;top:0;border:none !important;\" allowfullscreen webkitallowfullscreen mozallowfullscreen></iframe></div></div>"
      ],
      "text/plain": [
       "<folium.folium.Map at 0x28c16a7d610>"
      ]
     },
     "execution_count": 43,
     "metadata": {},
     "output_type": "execute_result"
    }
   ],
   "source": [
    "get_heatmap(\"South Indian\")"
   ]
  }
 ],
 "metadata": {
  "kernelspec": {
   "display_name": "Python 3",
   "language": "python",
   "name": "python3"
  },
  "language_info": {
   "codemirror_mode": {
    "name": "ipython",
    "version": 3
   },
   "file_extension": ".py",
   "mimetype": "text/x-python",
   "name": "python",
   "nbconvert_exporter": "python",
   "pygments_lexer": "ipython3",
   "version": "3.11.2"
  }
 },
 "nbformat": 4,
 "nbformat_minor": 2
}
